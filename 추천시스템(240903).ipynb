{
 "cells": [
  {
   "cell_type": "code",
   "execution_count": 1,
   "id": "8aea6009",
   "metadata": {},
   "outputs": [
    {
     "name": "stdout",
     "output_type": "stream",
     "text": [
      "1.3.3\n",
      "2.6.0\n"
     ]
    }
   ],
   "source": [
    "import pandas\n",
    "import tensorflow\n",
    "\n",
    "print(pandas.__version__)\n",
    "print(tensorflow.__version__)"
   ]
  },
  {
   "cell_type": "code",
   "execution_count": 2,
   "id": "28910fff",
   "metadata": {},
   "outputs": [],
   "source": [
    "import datetime as dt\n",
    "from pathlib import Path\n",
    "import os\n",
    "import time\n",
    "from datetime import datetime\n",
    "from IPython.display import display\n",
    "\n",
    "import numpy as np\n",
    "import pandas as pd\n",
    "import matplotlib.pyplot as plt\n",
    "import warnings\n",
    "warnings.filterwarnings('ignore')"
   ]
  },
  {
   "cell_type": "code",
   "execution_count": 3,
   "id": "38d1d4c3",
   "metadata": {},
   "outputs": [
    {
     "data": {
      "text/html": [
       "<div>\n",
       "<style scoped>\n",
       "    .dataframe tbody tr th:only-of-type {\n",
       "        vertical-align: middle;\n",
       "    }\n",
       "\n",
       "    .dataframe tbody tr th {\n",
       "        vertical-align: top;\n",
       "    }\n",
       "\n",
       "    .dataframe thead th {\n",
       "        text-align: right;\n",
       "    }\n",
       "</style>\n",
       "<table border=\"1\" class=\"dataframe\">\n",
       "  <thead>\n",
       "    <tr style=\"text-align: right;\">\n",
       "      <th></th>\n",
       "      <th>UserId</th>\n",
       "      <th>ItemId</th>\n",
       "      <th>Rating</th>\n",
       "      <th>Time</th>\n",
       "    </tr>\n",
       "  </thead>\n",
       "  <tbody>\n",
       "    <tr>\n",
       "      <th>31</th>\n",
       "      <td>1</td>\n",
       "      <td>3186</td>\n",
       "      <td>4</td>\n",
       "      <td>978300019</td>\n",
       "    </tr>\n",
       "    <tr>\n",
       "      <th>22</th>\n",
       "      <td>1</td>\n",
       "      <td>1270</td>\n",
       "      <td>5</td>\n",
       "      <td>978300055</td>\n",
       "    </tr>\n",
       "    <tr>\n",
       "      <th>27</th>\n",
       "      <td>1</td>\n",
       "      <td>1721</td>\n",
       "      <td>4</td>\n",
       "      <td>978300055</td>\n",
       "    </tr>\n",
       "    <tr>\n",
       "      <th>37</th>\n",
       "      <td>1</td>\n",
       "      <td>1022</td>\n",
       "      <td>5</td>\n",
       "      <td>978300055</td>\n",
       "    </tr>\n",
       "    <tr>\n",
       "      <th>24</th>\n",
       "      <td>1</td>\n",
       "      <td>2340</td>\n",
       "      <td>3</td>\n",
       "      <td>978300103</td>\n",
       "    </tr>\n",
       "    <tr>\n",
       "      <th>...</th>\n",
       "      <td>...</td>\n",
       "      <td>...</td>\n",
       "      <td>...</td>\n",
       "      <td>...</td>\n",
       "    </tr>\n",
       "    <tr>\n",
       "      <th>1000019</th>\n",
       "      <td>6040</td>\n",
       "      <td>2917</td>\n",
       "      <td>4</td>\n",
       "      <td>997454429</td>\n",
       "    </tr>\n",
       "    <tr>\n",
       "      <th>999988</th>\n",
       "      <td>6040</td>\n",
       "      <td>1921</td>\n",
       "      <td>4</td>\n",
       "      <td>997454464</td>\n",
       "    </tr>\n",
       "    <tr>\n",
       "      <th>1000172</th>\n",
       "      <td>6040</td>\n",
       "      <td>1784</td>\n",
       "      <td>3</td>\n",
       "      <td>997454464</td>\n",
       "    </tr>\n",
       "    <tr>\n",
       "      <th>1000167</th>\n",
       "      <td>6040</td>\n",
       "      <td>161</td>\n",
       "      <td>3</td>\n",
       "      <td>997454486</td>\n",
       "    </tr>\n",
       "    <tr>\n",
       "      <th>1000042</th>\n",
       "      <td>6040</td>\n",
       "      <td>1221</td>\n",
       "      <td>4</td>\n",
       "      <td>998315055</td>\n",
       "    </tr>\n",
       "  </tbody>\n",
       "</table>\n",
       "<p>1000209 rows × 4 columns</p>\n",
       "</div>"
      ],
      "text/plain": [
       "         UserId  ItemId  Rating       Time\n",
       "31            1    3186       4  978300019\n",
       "22            1    1270       5  978300055\n",
       "27            1    1721       4  978300055\n",
       "37            1    1022       5  978300055\n",
       "24            1    2340       3  978300103\n",
       "...         ...     ...     ...        ...\n",
       "1000019    6040    2917       4  997454429\n",
       "999988     6040    1921       4  997454464\n",
       "1000172    6040    1784       3  997454464\n",
       "1000167    6040     161       3  997454486\n",
       "1000042    6040    1221       4  998315055\n",
       "\n",
       "[1000209 rows x 4 columns]"
      ]
     },
     "execution_count": 3,
     "metadata": {},
     "output_type": "execute_result"
    }
   ],
   "source": [
    "data_path = Path(os.getenv('HOME')+'/aiffel/yoochoose/data/') \n",
    "train_path = data_path / 'ratings.dat'\n",
    "\n",
    "def load_data(data_path: Path, nrows=None):\n",
    "    data = pd.read_csv(data_path, sep='::', header=None, usecols=[0, 1, 2, 3], dtype={0: np.int32, 1: np.int32, 2: np.int32}, nrows=nrows)\n",
    "    data.columns = ['UserId', 'ItemId', 'Rating', 'Time']\n",
    "    return data\n",
    "\n",
    "data = load_data(train_path, None)\n",
    "data.sort_values(['UserId', 'Time'], inplace=True)  # data를 id와 시간 순서로 정렬해줍니다.\n",
    "data"
   ]
  },
  {
   "cell_type": "markdown",
   "id": "356cc383",
   "metadata": {},
   "source": [
    "- SessionID 대신 UserID: 명확한 1회 세션의 SessionID를 포함하지 않음\n",
    "- Rating정보 포함\n",
    "- Time항목에 UTC Time 포함"
   ]
  },
  {
   "cell_type": "markdown",
   "id": "4c6f81f2",
   "metadata": {},
   "source": [
    "# Step1. Data PreProcessing\n",
    "- 항목별 기본 분석, session length, session time, cleaning등의 작업 진행"
   ]
  },
  {
   "cell_type": "markdown",
   "id": "12151dc6",
   "metadata": {},
   "source": [
    "## Basic Analysis"
   ]
  },
  {
   "cell_type": "code",
   "execution_count": 4,
   "id": "b950b912",
   "metadata": {},
   "outputs": [
    {
     "name": "stdout",
     "output_type": "stream",
     "text": [
      "<class 'pandas.core.frame.DataFrame'>\n",
      "Int64Index: 1000209 entries, 31 to 1000042\n",
      "Data columns (total 4 columns):\n",
      " #   Column  Non-Null Count    Dtype\n",
      "---  ------  --------------    -----\n",
      " 0   UserId  1000209 non-null  int32\n",
      " 1   ItemId  1000209 non-null  int32\n",
      " 2   Rating  1000209 non-null  int32\n",
      " 3   Time    1000209 non-null  int64\n",
      "dtypes: int32(3), int64(1)\n",
      "memory usage: 26.7 MB\n"
     ]
    }
   ],
   "source": [
    "data.info()"
   ]
  },
  {
   "cell_type": "code",
   "execution_count": 5,
   "id": "34e7c584",
   "metadata": {},
   "outputs": [
    {
     "data": {
      "text/html": [
       "<div>\n",
       "<style scoped>\n",
       "    .dataframe tbody tr th:only-of-type {\n",
       "        vertical-align: middle;\n",
       "    }\n",
       "\n",
       "    .dataframe tbody tr th {\n",
       "        vertical-align: top;\n",
       "    }\n",
       "\n",
       "    .dataframe thead th {\n",
       "        text-align: right;\n",
       "    }\n",
       "</style>\n",
       "<table border=\"1\" class=\"dataframe\">\n",
       "  <thead>\n",
       "    <tr style=\"text-align: right;\">\n",
       "      <th></th>\n",
       "      <th>UserId</th>\n",
       "      <th>ItemId</th>\n",
       "      <th>Rating</th>\n",
       "      <th>Time</th>\n",
       "    </tr>\n",
       "  </thead>\n",
       "  <tbody>\n",
       "    <tr>\n",
       "      <th>31</th>\n",
       "      <td>1</td>\n",
       "      <td>3186</td>\n",
       "      <td>4</td>\n",
       "      <td>978300019</td>\n",
       "    </tr>\n",
       "    <tr>\n",
       "      <th>22</th>\n",
       "      <td>1</td>\n",
       "      <td>1270</td>\n",
       "      <td>5</td>\n",
       "      <td>978300055</td>\n",
       "    </tr>\n",
       "    <tr>\n",
       "      <th>27</th>\n",
       "      <td>1</td>\n",
       "      <td>1721</td>\n",
       "      <td>4</td>\n",
       "      <td>978300055</td>\n",
       "    </tr>\n",
       "    <tr>\n",
       "      <th>37</th>\n",
       "      <td>1</td>\n",
       "      <td>1022</td>\n",
       "      <td>5</td>\n",
       "      <td>978300055</td>\n",
       "    </tr>\n",
       "    <tr>\n",
       "      <th>24</th>\n",
       "      <td>1</td>\n",
       "      <td>2340</td>\n",
       "      <td>3</td>\n",
       "      <td>978300103</td>\n",
       "    </tr>\n",
       "  </tbody>\n",
       "</table>\n",
       "</div>"
      ],
      "text/plain": [
       "    UserId  ItemId  Rating       Time\n",
       "31       1    3186       4  978300019\n",
       "22       1    1270       5  978300055\n",
       "27       1    1721       4  978300055\n",
       "37       1    1022       5  978300055\n",
       "24       1    2340       3  978300103"
      ]
     },
     "execution_count": 5,
     "metadata": {},
     "output_type": "execute_result"
    }
   ],
   "source": [
    "data.head()"
   ]
  },
  {
   "cell_type": "code",
   "execution_count": 6,
   "id": "54340f60",
   "metadata": {},
   "outputs": [
    {
     "data": {
      "text/plain": [
       "4    0.348898\n",
       "3    0.261142\n",
       "5    0.226263\n",
       "2    0.107535\n",
       "1    0.056162\n",
       "Name: Rating, dtype: float64"
      ]
     },
     "execution_count": 6,
     "metadata": {},
     "output_type": "execute_result"
    }
   ],
   "source": [
    "rating_distribution = data['Rating'].value_counts(normalize=True)\n",
    "rating_distribution"
   ]
  },
  {
   "cell_type": "code",
   "execution_count": 7,
   "id": "765b3f29",
   "metadata": {},
   "outputs": [
    {
     "name": "stdout",
     "output_type": "stream",
     "text": [
      "\n",
      "고유한 사용자 수: 6040\n",
      "고유한 아이템 수: 3706\n"
     ]
    }
   ],
   "source": [
    "print(f\"\\n고유한 사용자 수: {data['UserId'].nunique()}\")\n",
    "print(f\"고유한 아이템 수: {data['ItemId'].nunique()}\")"
   ]
  },
  {
   "cell_type": "code",
   "execution_count": 8,
   "id": "e2070e4b",
   "metadata": {},
   "outputs": [],
   "source": [
    "# 타임스탬프를 실제 날짜로 변환\n",
    "data['Time'] = pd.to_datetime(data['Time'], unit='s')"
   ]
  },
  {
   "cell_type": "markdown",
   "id": "05b2c727",
   "metadata": {},
   "source": [
    "## Session Length Analysis"
   ]
  },
  {
   "cell_type": "code",
   "execution_count": 9,
   "id": "ab523da2",
   "metadata": {},
   "outputs": [],
   "source": [
    "# 각 UserId에 대한 세션 길이 계산\n",
    "session_length = data.groupby('UserId').size()"
   ]
  },
  {
   "cell_type": "code",
   "execution_count": 10,
   "id": "20a8da92",
   "metadata": {},
   "outputs": [
    {
     "data": {
      "text/plain": [
       "count    6040.000000\n",
       "mean      165.597517\n",
       "std       192.747029\n",
       "min        20.000000\n",
       "25%        44.000000\n",
       "50%        96.000000\n",
       "75%       208.000000\n",
       "max      2314.000000\n",
       "dtype: float64"
      ]
     },
     "execution_count": 10,
     "metadata": {},
     "output_type": "execute_result"
    }
   ],
   "source": [
    "# 각 UserId에 대한 세션 길이 계산\n",
    "session_length.describe()"
   ]
  },
  {
   "cell_type": "code",
   "execution_count": 11,
   "id": "8b366fe8",
   "metadata": {},
   "outputs": [
    {
     "data": {
      "image/png": "[encoded data removed]",
      "text/plain": [
       "<Figure size 864x432 with 1 Axes>"
      ]
     },
     "metadata": {
      "needs_background": "light"
     },
     "output_type": "display_data"
    }
   ],
   "source": [
    "plt.figure(figsize=(12, 6))\n",
    "session_length.hist(bins=100)\n",
    "plt.title('Session Length Distribution')\n",
    "plt.xlabel('Session Length')\n",
    "plt.ylabel('Frequency')\n",
    "plt.show()"
   ]
  },
  {
   "cell_type": "markdown",
   "id": "ad31576a",
   "metadata": {},
   "source": [
    "## Session Time Analysis"
   ]
  },
  {
   "cell_type": "code",
   "execution_count": 12,
   "id": "7deb30a7",
   "metadata": {},
   "outputs": [],
   "source": [
    "# 각 세션의 시작 시간과 종료 시간 계산\n",
    "session_start_time = data.groupby('UserId')['Time'].min()\n",
    "session_end_time = data.groupby('UserId')['Time'].max()"
   ]
  },
  {
   "cell_type": "code",
   "execution_count": 13,
   "id": "fbf99485",
   "metadata": {},
   "outputs": [],
   "source": [
    "# 세션 지속 시간 초 단위 계산\n",
    "session_duration = (session_end_time - session_start_time).dt.total_seconds()"
   ]
  },
  {
   "cell_type": "code",
   "execution_count": 14,
   "id": "4d9ea028",
   "metadata": {},
   "outputs": [
    {
     "data": {
      "text/plain": [
       "count    6.040000e+03\n",
       "mean     8.207777e+06\n",
       "std      1.917298e+07\n",
       "min      1.060000e+02\n",
       "25%      1.207500e+03\n",
       "50%      4.068500e+03\n",
       "75%      2.021375e+06\n",
       "max      8.924779e+07\n",
       "Name: Time, dtype: float64"
      ]
     },
     "execution_count": 14,
     "metadata": {},
     "output_type": "execute_result"
    }
   ],
   "source": [
    "session_duration.describe()"
   ]
  },
  {
   "cell_type": "code",
   "execution_count": 15,
   "id": "1083a6c4",
   "metadata": {},
   "outputs": [
    {
     "data": {
      "image/png": "[encoded data removed]",
      "text/plain": [
       "<Figure size 864x432 with 1 Axes>"
      ]
     },
     "metadata": {
      "needs_background": "light"
     },
     "output_type": "display_data"
    }
   ],
   "source": [
    "plt.figure(figsize=(12, 6))\n",
    "session_duration.hist(bins=100)\n",
    "plt.title('Session Duration Distribution')\n",
    "plt.xlabel('Session Duration (seconds)')\n",
    "plt.ylabel('Frequency')\n",
    "plt.show()"
   ]
  },
  {
   "cell_type": "markdown",
   "id": "71068fb4",
   "metadata": {},
   "source": [
    "## Data Cleansing"
   ]
  },
  {
   "cell_type": "code",
   "execution_count": 16,
   "id": "2c7c88ee",
   "metadata": {},
   "outputs": [],
   "source": [
    "# Rating이 낮은 데이터 제거\n",
    "data = data[data['Rating'] >= 3]"
   ]
  },
  {
   "cell_type": "code",
   "execution_count": 17,
   "id": "23d083d8",
   "metadata": {},
   "outputs": [],
   "source": [
    "# 세션 길이가 2 이하인 세션 제거\n",
    "session_length = data.groupby('UserId').size()\n",
    "data = data[data['UserId'].isin(session_length[session_length > 2].index)]"
   ]
  },
  {
   "cell_type": "code",
   "execution_count": 18,
   "id": "63f841eb",
   "metadata": {},
   "outputs": [],
   "source": [
    "# 데이터셋 분할\n",
    "split_1 = int(len(data) * 0.8)\n",
    "split_2 = int(len(data) * 0.9)\n",
    "\n",
    "tr = data[:split_1]\n",
    "val = data[split_1:split_2]\n",
    "test = data[split_2:]"
   ]
  },
  {
   "cell_type": "code",
   "execution_count": 19,
   "id": "99d67529",
   "metadata": {},
   "outputs": [],
   "source": [
    "# id2idx 매핑 생성\n",
    "id2idx = {item_id: index for index, item_id in enumerate(tr['ItemId'].unique())}\n",
    "\n",
    "# 인덱싱 함수 정의\n",
    "def indexing(df, id2idx):\n",
    "    df['item_idx'] = df['ItemId'].map(lambda x: id2idx.get(x, -1))  # 없는 아이템은 -1로 처리\n",
    "    df = df[df['item_idx'] != -1]  # 없는 아이템 제거\n",
    "    return df\n",
    "\n",
    "# 데이터 인덱싱 적용\n",
    "tr = indexing(tr, id2idx)\n",
    "val = indexing(val, id2idx)\n",
    "test = indexing(test, id2idx)"
   ]
  },
  {
   "cell_type": "code",
   "execution_count": 20,
   "id": "37a85cad",
   "metadata": {},
   "outputs": [
    {
     "name": "stdout",
     "output_type": "stream",
     "text": [
      "Train dataset max ItemId: 3599\n",
      "Validation dataset max ItemId: 3599\n",
      "Test dataset max ItemId: 3596\n",
      "Cleaned Train dataset max ItemId: 3599\n",
      "Cleaned Validation dataset max ItemId: 3599\n",
      "Cleaned Test dataset max ItemId: 3596\n"
     ]
    }
   ],
   "source": [
    "# 최대값 확인\n",
    "print(f\"Train dataset max ItemId: {tr['item_idx'].max()}\")\n",
    "print(f\"Validation dataset max ItemId: {val['item_idx'].max()}\")\n",
    "print(f\"Test dataset max ItemId: {test['item_idx'].max()}\")\n",
    "\n",
    "# 클렌징 함수 정의 및 적용\n",
    "def cleanse_dataset(df, num_items):\n",
    "    df = df[df['item_idx'] < num_items]\n",
    "    return df\n",
    "\n",
    "# num_items 설정 및 클렌징\n",
    "num_items = max(tr['item_idx'].max(), val['item_idx'].max(), test['item_idx'].max()) + 1\n",
    "tr = cleanse_dataset(tr, num_items)\n",
    "val = cleanse_dataset(val, num_items)\n",
    "test = cleanse_dataset(test, num_items)\n",
    "\n",
    "print(f\"Cleaned Train dataset max ItemId: {tr['item_idx'].max()}\")\n",
    "print(f\"Cleaned Validation dataset max ItemId: {val['item_idx'].max()}\")\n",
    "print(f\"Cleaned Test dataset max ItemId: {test['item_idx'].max()}\")"
   ]
  },
  {
   "cell_type": "code",
   "execution_count": 21,
   "id": "8e1f87b4",
   "metadata": {},
   "outputs": [
    {
     "name": "stdout",
     "output_type": "stream",
     "text": [
      "Final Train dataset size: 669181\n",
      "Final Validation dataset size: 83628\n",
      "Final Test dataset size: 83634\n"
     ]
    }
   ],
   "source": [
    "print(f\"Final Train dataset size: {len(tr)}\")\n",
    "print(f\"Final Validation dataset size: {len(val)}\")\n",
    "print(f\"Final Test dataset size: {len(test)}\")"
   ]
  },
  {
   "cell_type": "code",
   "execution_count": null,
   "id": "703c7c3a",
   "metadata": {},
   "outputs": [],
   "source": [
    "# 클렌징 후 데이터의 기본 통계 다시 확인\n",
    "data.info()"
   ]
  },
  {
   "cell_type": "markdown",
   "id": "48a89dcd",
   "metadata": {},
   "source": [
    "# Step 2. Mini-Batch 구성\n",
    "- 실습 코드 내역을 참고해 데이터셋과 미니배치 구성\n",
    "- Session-Parallel Mini-Batch의 개념에 따라 학습 속도의 저하가 최소화될 수 있도록 구성"
   ]
  },
  {
   "cell_type": "markdown",
   "id": "d525868b",
   "metadata": {},
   "source": [
    "## 2-1. SessionDataset Class"
   ]
  },
  {
   "cell_type": "code",
   "execution_count": 22,
   "id": "07a1a51e",
   "metadata": {},
   "outputs": [
    {
     "name": "stdout",
     "output_type": "stream",
     "text": [
      "Session 시작 위치: [  0  53 169 215 234]\n",
      "Session 인덱스: [0 1 2 3 4]\n"
     ]
    }
   ],
   "source": [
    "class SessionDataset:\n",
    "    def __init__(self, data):\n",
    "        self.df = data\n",
    "        self.click_offsets = self.get_click_offsets()\n",
    "        self.session_idx = np.arange(self.df['UserId'].nunique())\n",
    "\n",
    "    def get_click_offsets(self):\n",
    "        offsets = np.zeros(self.df['UserId'].nunique() + 1, dtype=np.int32)\n",
    "        offsets[1:] = self.df.groupby('UserId').size().cumsum()\n",
    "        return offsets\n",
    "\n",
    "# SessionDataset을 인스턴스화해 확인\n",
    "tr_dataset = SessionDataset(data)\n",
    "print(f\"Session 시작 위치: {tr_dataset.click_offsets[:5]}\")\n",
    "print(f\"Session 인덱스: {tr_dataset.session_idx[:5]}\")"
   ]
  },
  {
   "cell_type": "markdown",
   "id": "4daced03",
   "metadata": {},
   "source": [
    "## 2-2. SessionDataLoader Class"
   ]
  },
  {
   "cell_type": "code",
   "execution_count": 23,
   "id": "23fb4363",
   "metadata": {},
   "outputs": [],
   "source": [
    "class SessionDataLoader:\n",
    "    def __init__(self, dataset: SessionDataset, batch_size=50):\n",
    "        self.dataset = dataset\n",
    "        self.batch_size = batch_size\n",
    "\n",
    "    def __iter__(self):\n",
    "        start, end, mask, last_session, finished = self.initialize()\n",
    "\n",
    "        while not finished:\n",
    "            min_len = (end - start).min() - 1\n",
    "            for i in range(min_len):\n",
    "                inp = self.dataset.df['item_idx'].values[start + i]\n",
    "                target = self.dataset.df['item_idx'].values[start + i + 1]\n",
    "                yield inp, target, mask\n",
    "\n",
    "            start, end, mask, last_session, finished = self.update_status(start, end, min_len, last_session, finished)\n",
    "\n",
    "    def initialize(self):\n",
    "        first_iters = np.arange(self.batch_size)\n",
    "        last_session = self.batch_size - 1\n",
    "        start = self.dataset.click_offsets[self.dataset.session_idx[first_iters]]\n",
    "        end = self.dataset.click_offsets[self.dataset.session_idx[first_iters] + 1]\n",
    "        mask = np.array([])\n",
    "        finished = False\n",
    "        return start, end, mask, last_session, finished\n",
    "\n",
    "    def update_status(self, start, end, min_len, last_session, finished):\n",
    "        start += min_len\n",
    "        mask = np.arange(self.batch_size)[(end - start) == 1]\n",
    "\n",
    "        for i, idx in enumerate(mask, start=1):\n",
    "            new_session = last_session + i\n",
    "            if new_session > self.dataset.session_idx[-1]:\n",
    "                finished = True\n",
    "                break\n",
    "            start[idx] = self.dataset.click_offsets[self.dataset.session_idx[new_session]]\n",
    "            end[idx] = self.dataset.click_offsets[self.dataset.session_idx[new_session] + 1]\n",
    "\n",
    "        last_session += len(mask)\n",
    "        return start, end, mask, last_session, finished"
   ]
  },
  {
   "cell_type": "code",
   "execution_count": 24,
   "id": "4aff2aa5",
   "metadata": {},
   "outputs": [
    {
     "name": "stdout",
     "output_type": "stream",
     "text": [
      "Model Input Item Idx: [ 0 53 64 54]\n",
      "Label Item Idx: [ 1 54 62 24]\n",
      "Masked Input Idx: []\n"
     ]
    }
   ],
   "source": [
    "# SessionDataset과 SessionDataLoader 생성\n",
    "tr_dataset = SessionDataset(tr)\n",
    "tr_data_loader = SessionDataLoader(tr_dataset, batch_size=4)\n",
    "\n",
    "# 테스트를 위해 미니 배치 생성\n",
    "iter_ex = iter(tr_data_loader)\n",
    "inputs, labels, mask = next(iter_ex)\n",
    "\n",
    "print(f'Model Input Item Idx: {inputs}')\n",
    "print(f'Label Item Idx: {labels}')\n",
    "print(f'Masked Input Idx: {mask}')"
   ]
  },
  {
   "cell_type": "markdown",
   "id": "8da0bf58",
   "metadata": {},
   "source": [
    "# Step 3. Model 구성"
   ]
  },
  {
   "cell_type": "code",
   "execution_count": 25,
   "id": "9bfea065",
   "metadata": {},
   "outputs": [],
   "source": [
    "import tensorflow as tf\n",
    "from tensorflow.keras.layers import Input, Dense, Dropout, GRU\n",
    "from tensorflow.keras.models import Model\n",
    "from tensorflow.keras.losses import categorical_crossentropy\n",
    "from tensorflow.keras.optimizers import Adam"
   ]
  },
  {
   "cell_type": "code",
   "execution_count": 26,
   "id": "59a5b26d",
   "metadata": {},
   "outputs": [],
   "source": [
    "def create_model(args):\n",
    "    inputs = Input(batch_shape=(args.batch_size, 1, args.num_items))\n",
    "    gru, _ = GRU(args.hsz, stateful=True, return_state=True, name='GRU')(inputs)\n",
    "    dropout = Dropout(args.drop_rate)(gru)\n",
    "    predictions = Dense(args.num_items, activation='softmax')(dropout)\n",
    "    model = Model(inputs=inputs, outputs=predictions)\n",
    "    model.compile(optimizer='adam', loss='categorical_crossentropy', metrics=['accuracy'])\n",
    "    return model"
   ]
  },
  {
   "cell_type": "code",
   "execution_count": 27,
   "id": "5c4c6bdc",
   "metadata": {},
   "outputs": [],
   "source": [
    "# 하이퍼파라미터 설정\n",
    "class Args:\n",
    "    def __init__(self, tr, val, test, batch_size, hsz, drop_rate, lr, epochs, k):\n",
    "        self.tr = tr\n",
    "        self.val = val\n",
    "        self.test = test\n",
    "        self.num_items = max(tr['item_idx'].max(), val['item_idx'].max(), test['item_idx'].max()) + 1\n",
    "        self.num_sessions = tr['UserId'].nunique()\n",
    "        self.batch_size = batch_size\n",
    "        self.hsz = hsz\n",
    "        self.drop_rate = drop_rate\n",
    "        self.lr = lr\n",
    "        self.epochs = epochs\n",
    "        self.k = k\n",
    "\n",
    "# Args 객체 생성\n",
    "args = Args(tr=tr, val=val, test=test, batch_size=512, hsz=100, drop_rate=0.1, lr=0.001, epochs=10, k=20)"
   ]
  },
  {
   "cell_type": "code",
   "execution_count": 28,
   "id": "a8fa1828",
   "metadata": {},
   "outputs": [
    {
     "name": "stdout",
     "output_type": "stream",
     "text": [
      "Model: \"model\"\n",
      "_________________________________________________________________\n",
      "Layer (type)                 Output Shape              Param #   \n",
      "=================================================================\n",
      "input_1 (InputLayer)         [(512, 1, 3600)]          0         \n",
      "_________________________________________________________________\n",
      "GRU (GRU)                    [(512, 100), (512, 100)]  1110600   \n",
      "_________________________________________________________________\n",
      "dropout (Dropout)            (512, 100)                0         \n",
      "_________________________________________________________________\n",
      "dense (Dense)                (512, 3600)               363600    \n",
      "=================================================================\n",
      "Total params: 1,474,200\n",
      "Trainable params: 1,474,200\n",
      "Non-trainable params: 0\n",
      "_________________________________________________________________\n"
     ]
    }
   ],
   "source": [
    "# 모델 생성\n",
    "model = create_model(args)\n",
    "model.summary()"
   ]
  },
  {
   "cell_type": "markdown",
   "id": "6b40341f",
   "metadata": {},
   "source": [
    "# Step 4. Model Training\n",
    "- 다양한 하이퍼파라미터 변경을 보며 검증\n",
    "- Recall, MRR등의 개념도 함께 관리될 수 있도록 하기"
   ]
  },
  {
   "cell_type": "code",
   "execution_count": 29,
   "id": "6643bc2e",
   "metadata": {},
   "outputs": [],
   "source": [
    "def reset_hidden_states(model, mask):\n",
    "    gru_layer = model.get_layer(name='GRU')\n",
    "    hidden_states = gru_layer.states[0].numpy()\n",
    "    for elt in mask:\n",
    "        hidden_states[elt, :] = 0\n",
    "    gru_layer.reset_states(states=hidden_states)"
   ]
  },
  {
   "cell_type": "code",
   "execution_count": 30,
   "id": "45815ef3",
   "metadata": {},
   "outputs": [],
   "source": [
    "def recall_k(pred, truth, k):\n",
    "    return int(truth in pred[:k])\n",
    "\n",
    "def mrr_k(pred, truth, k):\n",
    "    try:\n",
    "        rank = np.where(pred[:k] == truth)[0][0] + 1\n",
    "        return 1 / rank\n",
    "    except IndexError:\n",
    "        return 0\n",
    "\n",
    "def get_metrics(data, model, args, k: int):\n",
    "    dataset = SessionDataset(data)\n",
    "    loader = SessionDataLoader(dataset, batch_size=args.batch_size)\n",
    "    recall_list, mrr_list = [], []\n",
    "\n",
    "    total_step = len(data) - data['UserId'].nunique()\n",
    "    for inputs, label, mask in tqdm(loader, total=total_step // args.batch_size, desc='Evaluation', mininterval=1):\n",
    "        reset_hidden_states(model, mask)\n",
    "        input_ohe = to_categorical(inputs, num_classes=args.num_items)\n",
    "        input_ohe = np.expand_dims(input_ohe, axis=1)\n",
    "\n",
    "        pred = model.predict(input_ohe, batch_size=args.batch_size)\n",
    "        pred_arg = np.argsort(pred, axis=-1)[:, ::-1]\n",
    "\n",
    "        length = len(inputs)\n",
    "        recall_list.extend([recall_k(pred_arg[i], label[i], k) for i in range(length)])\n",
    "        mrr_list.extend([mrr_k(pred_arg[i], label[i], k) for i in range(length)])\n",
    "\n",
    "    recall, mrr = np.mean(recall_list), np.mean(mrr_list)\n",
    "    return recall, mrr"
   ]
  },
  {
   "cell_type": "code",
   "execution_count": 31,
   "id": "cb5b994b",
   "metadata": {},
   "outputs": [],
   "source": [
    "from tqdm import tqdm\n",
    "from tensorflow.keras.utils import to_categorical\n",
    "\n",
    "def train_model(model, args):\n",
    "    train_dataset = SessionDataset(args.tr)\n",
    "    train_loader = SessionDataLoader(train_dataset, batch_size=args.batch_size)\n",
    "\n",
    "    for epoch in range(1, args.epochs + 1):\n",
    "        total_step = len(args.tr) - args.tr['UserId'].nunique()\n",
    "        tr_loader = tqdm(train_loader, total=total_step // args.batch_size, desc='Train', mininterval=1)\n",
    "        for feat, target, mask in tr_loader:\n",
    "            reset_hidden_states(model, mask)\n",
    "\n",
    "            if feat.max() >= args.num_items or target.max() >= args.num_items:\n",
    "                print(f\"Skipping batch due to out of bounds index: feat max {feat.max()}, target max {target.max()}\")\n",
    "                continue\n",
    "\n",
    "            input_ohe = to_categorical(feat, num_classes=args.num_items)\n",
    "            input_ohe = np.expand_dims(input_ohe, axis=1)\n",
    "            target_ohe = to_categorical(target, num_classes=args.num_items)\n",
    "\n",
    "            result = model.train_on_batch(input_ohe, target_ohe)\n",
    "            tr_loader.set_postfix(train_loss=result[0], accuracy=result[1])\n",
    "\n",
    "        val_recall, val_mrr = get_metrics(args.val, model, args, args.k)\n",
    "\n",
    "        print(f\"\\t - Recall@{args.k} epoch {epoch}: {val_recall:3f}\")\n",
    "        print(f\"\\t - MRR@{args.k}    epoch {epoch}: {val_mrr:3f}\\n\")"
   ]
  },
  {
   "cell_type": "code",
   "execution_count": 32,
   "id": "911cff66",
   "metadata": {},
   "outputs": [
    {
     "name": "stderr",
     "output_type": "stream",
     "text": [
      "Train:  88%|████████▊ | 1137/1297 [00:48<00:06, 23.41it/s, accuracy=0.00781, train_loss=6.91]\n",
      "Evaluation:  21%|██        | 34/162 [00:05<00:21,  5.95it/s]\n"
     ]
    },
    {
     "name": "stdout",
     "output_type": "stream",
     "text": [
      "\t - Recall@20 epoch 1: 0.187500\n",
      "\t - MRR@20    epoch 1: 0.048795\n",
      "\n"
     ]
    },
    {
     "name": "stderr",
     "output_type": "stream",
     "text": [
      "Train:  88%|████████▊ | 1137/1297 [00:41<00:05, 27.34it/s, accuracy=0.0176, train_loss=6.29]\n",
      "Evaluation:  21%|██        | 34/162 [00:05<00:20,  6.30it/s]\n"
     ]
    },
    {
     "name": "stdout",
     "output_type": "stream",
     "text": [
      "\t - Recall@20 epoch 2: 0.285788\n",
      "\t - MRR@20    epoch 2: 0.080462\n",
      "\n"
     ]
    },
    {
     "name": "stderr",
     "output_type": "stream",
     "text": [
      "Train:  88%|████████▊ | 1137/1297 [00:41<00:05, 27.52it/s, accuracy=0.0215, train_loss=6.08]\n",
      "Evaluation:  21%|██        | 34/162 [00:05<00:20,  6.29it/s]\n"
     ]
    },
    {
     "name": "stdout",
     "output_type": "stream",
     "text": [
      "\t - Recall@20 epoch 3: 0.316981\n",
      "\t - MRR@20    epoch 3: 0.093840\n",
      "\n"
     ]
    },
    {
     "name": "stderr",
     "output_type": "stream",
     "text": [
      "Train:  88%|████████▊ | 1137/1297 [00:41<00:05, 27.43it/s, accuracy=0.0234, train_loss=5.96]\n",
      "Evaluation:  21%|██        | 34/162 [00:05<00:20,  6.30it/s]\n"
     ]
    },
    {
     "name": "stdout",
     "output_type": "stream",
     "text": [
      "\t - Recall@20 epoch 4: 0.331457\n",
      "\t - MRR@20    epoch 4: 0.099934\n",
      "\n"
     ]
    },
    {
     "name": "stderr",
     "output_type": "stream",
     "text": [
      "Train:  88%|████████▊ | 1137/1297 [00:41<00:05, 27.41it/s, accuracy=0.0273, train_loss=5.9] \n",
      "Evaluation:  21%|██        | 34/162 [00:05<00:20,  6.29it/s]\n"
     ]
    },
    {
     "name": "stdout",
     "output_type": "stream",
     "text": [
      "\t - Recall@20 epoch 5: 0.337029\n",
      "\t - MRR@20    epoch 5: 0.104126\n",
      "\n"
     ]
    },
    {
     "name": "stderr",
     "output_type": "stream",
     "text": [
      "Train:  88%|████████▊ | 1137/1297 [00:41<00:05, 27.67it/s, accuracy=0.0273, train_loss=5.84]\n",
      "Evaluation:  21%|██        | 34/162 [00:05<00:20,  6.26it/s]\n"
     ]
    },
    {
     "name": "stdout",
     "output_type": "stream",
     "text": [
      "\t - Recall@20 epoch 6: 0.343348\n",
      "\t - MRR@20    epoch 6: 0.107074\n",
      "\n"
     ]
    },
    {
     "name": "stderr",
     "output_type": "stream",
     "text": [
      "Train:  88%|████████▊ | 1137/1297 [00:41<00:05, 27.34it/s, accuracy=0.0215, train_loss=5.77]\n",
      "Evaluation:  21%|██        | 34/162 [00:05<00:20,  6.22it/s]\n"
     ]
    },
    {
     "name": "stdout",
     "output_type": "stream",
     "text": [
      "\t - Recall@20 epoch 7: 0.344324\n",
      "\t - MRR@20    epoch 7: 0.108549\n",
      "\n"
     ]
    },
    {
     "name": "stderr",
     "output_type": "stream",
     "text": [
      "Train:  88%|████████▊ | 1137/1297 [00:40<00:05, 27.82it/s, accuracy=0.0234, train_loss=5.74]\n",
      "Evaluation:  21%|██        | 34/162 [00:05<00:20,  6.27it/s]\n"
     ]
    },
    {
     "name": "stdout",
     "output_type": "stream",
     "text": [
      "\t - Recall@20 epoch 8: 0.347082\n",
      "\t - MRR@20    epoch 8: 0.110209\n",
      "\n"
     ]
    },
    {
     "name": "stderr",
     "output_type": "stream",
     "text": [
      "Train:  88%|████████▊ | 1137/1297 [00:41<00:05, 27.33it/s, accuracy=0.0312, train_loss=5.72]\n",
      "Evaluation:  21%|██        | 34/162 [00:05<00:20,  6.21it/s]\n"
     ]
    },
    {
     "name": "stdout",
     "output_type": "stream",
     "text": [
      "\t - Recall@20 epoch 9: 0.348805\n",
      "\t - MRR@20    epoch 9: 0.110946\n",
      "\n"
     ]
    },
    {
     "name": "stderr",
     "output_type": "stream",
     "text": [
      "Train:  88%|████████▊ | 1137/1297 [00:41<00:05, 27.39it/s, accuracy=0.0312, train_loss=5.68]\n",
      "Evaluation:  21%|██        | 34/162 [00:05<00:20,  6.26it/s]"
     ]
    },
    {
     "name": "stdout",
     "output_type": "stream",
     "text": [
      "\t - Recall@20 epoch 10: 0.350988\n",
      "\t - MRR@20    epoch 10: 0.111567\n",
      "\n"
     ]
    },
    {
     "name": "stderr",
     "output_type": "stream",
     "text": [
      "\n"
     ]
    }
   ],
   "source": [
    "# 모델 학습 실행\n",
    "train_model(model, args)"
   ]
  },
  {
   "cell_type": "markdown",
   "id": "2930df0d",
   "metadata": {},
   "source": [
    "# Step 5. Model Test\n",
    "- 미리 구성한 테스트셋 바탕으로 Recall, MRR 확인"
   ]
  },
  {
   "cell_type": "code",
   "execution_count": 33,
   "id": "93ad0be1",
   "metadata": {},
   "outputs": [
    {
     "name": "stderr",
     "output_type": "stream",
     "text": [
      "Evaluation:  20%|█▉        | 32/162 [00:05<00:20,  6.26it/s]"
     ]
    },
    {
     "name": "stdout",
     "output_type": "stream",
     "text": [
      "\t - Recall@20 on test set: 0.341614\n",
      "\t - MRR@20 on test set: 0.104613\n"
     ]
    },
    {
     "name": "stderr",
     "output_type": "stream",
     "text": [
      "\n"
     ]
    }
   ],
   "source": [
    "# 테스트 셋에서 모델 성능 평가\n",
    "test_recall, test_mrr = get_metrics(args.test, model, args, args.k)\n",
    "print(f\"\\t - Recall@{args.k} on test set: {test_recall:3f}\")\n",
    "print(f\"\\t - MRR@{args.k} on test set: {test_mrr:3f}\")"
   ]
  },
  {
   "cell_type": "markdown",
   "id": "77f7503c",
   "metadata": {},
   "source": [
    "# Test 1. Session Length 기준 변경"
   ]
  },
  {
   "cell_type": "code",
   "execution_count": 34,
   "id": "5b72a35e",
   "metadata": {},
   "outputs": [
    {
     "name": "stderr",
     "output_type": "stream",
     "text": [
      "Train:  88%|████████▊ | 1137/1297 [00:42<00:05, 27.00it/s, accuracy=0.0137, train_loss=6.92] \n",
      "Evaluation:  21%|██        | 34/162 [00:05<00:21,  6.08it/s]\n"
     ]
    },
    {
     "name": "stdout",
     "output_type": "stream",
     "text": [
      "\t - Recall@20 epoch 1: 0.192727\n",
      "\t - MRR@20    epoch 1: 0.050429\n",
      "\n"
     ]
    },
    {
     "name": "stderr",
     "output_type": "stream",
     "text": [
      "Train:  88%|████████▊ | 1137/1297 [00:41<00:05, 27.63it/s, accuracy=0.0176, train_loss=6.35]\n",
      "Evaluation:  21%|██        | 34/162 [00:05<00:20,  6.29it/s]\n"
     ]
    },
    {
     "name": "stdout",
     "output_type": "stream",
     "text": [
      "\t - Recall@20 epoch 2: 0.279297\n",
      "\t - MRR@20    epoch 2: 0.079247\n",
      "\n"
     ]
    },
    {
     "name": "stderr",
     "output_type": "stream",
     "text": [
      "Train:  88%|████████▊ | 1137/1297 [00:40<00:05, 27.87it/s, accuracy=0.0195, train_loss=6.06]\n",
      "Evaluation:  21%|██        | 34/162 [00:05<00:20,  6.29it/s]\n"
     ]
    },
    {
     "name": "stdout",
     "output_type": "stream",
     "text": [
      "\t - Recall@20 epoch 3: 0.315487\n",
      "\t - MRR@20    epoch 3: 0.092317\n",
      "\n"
     ]
    },
    {
     "name": "stderr",
     "output_type": "stream",
     "text": [
      "Train:  88%|████████▊ | 1137/1297 [00:40<00:05, 27.88it/s, accuracy=0.0293, train_loss=5.95]\n",
      "Evaluation:  21%|██        | 34/162 [00:05<00:20,  6.29it/s]\n"
     ]
    },
    {
     "name": "stdout",
     "output_type": "stream",
     "text": [
      "\t - Recall@20 epoch 4: 0.330710\n",
      "\t - MRR@20    epoch 4: 0.099690\n",
      "\n"
     ]
    },
    {
     "name": "stderr",
     "output_type": "stream",
     "text": [
      "Train:  88%|████████▊ | 1137/1297 [00:40<00:05, 28.26it/s, accuracy=0.0312, train_loss=5.86]\n",
      "Evaluation:  21%|██        | 34/162 [00:05<00:20,  6.33it/s]\n"
     ]
    },
    {
     "name": "stdout",
     "output_type": "stream",
     "text": [
      "\t - Recall@20 epoch 5: 0.338982\n",
      "\t - MRR@20    epoch 5: 0.103384\n",
      "\n"
     ]
    },
    {
     "name": "stderr",
     "output_type": "stream",
     "text": [
      "Train:  88%|████████▊ | 1137/1297 [00:40<00:05, 28.35it/s, accuracy=0.0352, train_loss=5.81]\n",
      "Evaluation:  21%|██        | 34/162 [00:05<00:20,  6.28it/s]\n"
     ]
    },
    {
     "name": "stdout",
     "output_type": "stream",
     "text": [
      "\t - Recall@20 epoch 6: 0.343176\n",
      "\t - MRR@20    epoch 6: 0.105466\n",
      "\n"
     ]
    },
    {
     "name": "stderr",
     "output_type": "stream",
     "text": [
      "Train:  88%|████████▊ | 1137/1297 [00:40<00:05, 28.24it/s, accuracy=0.0332, train_loss=5.73]\n",
      "Evaluation:  21%|██        | 34/162 [00:05<00:20,  6.31it/s]\n"
     ]
    },
    {
     "name": "stdout",
     "output_type": "stream",
     "text": [
      "\t - Recall@20 epoch 7: 0.345531\n",
      "\t - MRR@20    epoch 7: 0.107297\n",
      "\n"
     ]
    },
    {
     "name": "stderr",
     "output_type": "stream",
     "text": [
      "Train:  88%|████████▊ | 1137/1297 [00:40<00:05, 28.16it/s, accuracy=0.0293, train_loss=5.74]\n",
      "Evaluation:  21%|██        | 34/162 [00:05<00:20,  6.29it/s]\n"
     ]
    },
    {
     "name": "stdout",
     "output_type": "stream",
     "text": [
      "\t - Recall@20 epoch 8: 0.347369\n",
      "\t - MRR@20    epoch 8: 0.108841\n",
      "\n"
     ]
    },
    {
     "name": "stderr",
     "output_type": "stream",
     "text": [
      "Train:  88%|████████▊ | 1137/1297 [00:40<00:05, 28.03it/s, accuracy=0.0391, train_loss=5.68]\n",
      "Evaluation:  21%|██        | 34/162 [00:05<00:20,  6.25it/s]\n"
     ]
    },
    {
     "name": "stdout",
     "output_type": "stream",
     "text": [
      "\t - Recall@20 epoch 9: 0.348977\n",
      "\t - MRR@20    epoch 9: 0.110348\n",
      "\n"
     ]
    },
    {
     "name": "stderr",
     "output_type": "stream",
     "text": [
      "Train:  88%|████████▊ | 1137/1297 [00:40<00:05, 28.19it/s, accuracy=0.041, train_loss=5.66] \n",
      "Evaluation:  21%|██        | 34/162 [00:05<00:20,  6.25it/s]\n"
     ]
    },
    {
     "name": "stdout",
     "output_type": "stream",
     "text": [
      "\t - Recall@20 epoch 10: 0.350701\n",
      "\t - MRR@20    epoch 10: 0.110451\n",
      "\n"
     ]
    },
    {
     "name": "stderr",
     "output_type": "stream",
     "text": [
      "Evaluation:  20%|█▉        | 32/162 [00:05<00:20,  6.31it/s]"
     ]
    },
    {
     "name": "stdout",
     "output_type": "stream",
     "text": [
      "\t - Recall@20 on test set after session length change: 0.343933\n",
      "\t - MRR@20 on test set after session length change: 0.103675\n"
     ]
    },
    {
     "name": "stderr",
     "output_type": "stream",
     "text": [
      "\n"
     ]
    }
   ],
   "source": [
    "# 세션 길이 기준 (2 > 5)\n",
    "data_exp1 = data.copy()\n",
    "session_length_exp1 = data_exp1.groupby('UserId').size()\n",
    "data_exp1 = data_exp1[data_exp1['UserId'].isin(session_length_exp1[session_length_exp1 > 5].index)]\n",
    "\n",
    "# 데이터셋 분할\n",
    "split_1_exp1 = int(len(data_exp1) * 0.8)\n",
    "split_2_exp1 = int(len(data_exp1) * 0.9)\n",
    "\n",
    "tr_exp1 = data_exp1[:split_1_exp1]\n",
    "val_exp1 = data_exp1[split_1_exp1:split_2_exp1]\n",
    "test_exp1 = data_exp1[split_2_exp1:]\n",
    "\n",
    "# 인덱싱 및 클렌징 적용\n",
    "tr_exp1 = indexing(tr_exp1, id2idx)\n",
    "val_exp1 = indexing(val_exp1, id2idx)\n",
    "test_exp1 = indexing(test_exp1, id2idx)\n",
    "tr_exp1 = cleanse_dataset(tr_exp1, num_items)\n",
    "val_exp1 = cleanse_dataset(val_exp1, num_items)\n",
    "test_exp1 = cleanse_dataset(test_exp1, num_items)\n",
    "\n",
    "# 모델 학습 및 평가\n",
    "args_exp1 = Args(tr=tr_exp1, val=val_exp1, test=test_exp1, batch_size=512, hsz=100, drop_rate=0.1, lr=0.001, epochs=10, k=20)\n",
    "model_exp1 = create_model(args_exp1)\n",
    "train_model(model_exp1, args_exp1)\n",
    "\n",
    "# 테스트 셋에서 모델 성능 평가\n",
    "test_recall_exp1, test_mrr_exp1 = get_metrics(args_exp1.test, model_exp1, args_exp1, args_exp1.k)\n",
    "print(f\"\\t - Recall@{args_exp1.k} on test set after session length change: {test_recall_exp1:3f}\")\n",
    "print(f\"\\t - MRR@{args_exp1.k} on test set after session length change: {test_mrr_exp1:3f}\")"
   ]
  },
  {
   "cell_type": "markdown",
   "id": "f3ee31c0",
   "metadata": {},
   "source": [
    "# Test 2. GRU 유닛 수 변경"
   ]
  },
  {
   "cell_type": "code",
   "execution_count": 35,
   "id": "c76f0028",
   "metadata": {},
   "outputs": [
    {
     "name": "stderr",
     "output_type": "stream",
     "text": [
      "Train:  88%|████████▊ | 1137/1297 [00:42<00:05, 26.87it/s, accuracy=0.0137, train_loss=6.62] \n",
      "Evaluation:  21%|██        | 34/162 [00:05<00:21,  6.00it/s]\n"
     ]
    },
    {
     "name": "stdout",
     "output_type": "stream",
     "text": [
      "\t - Recall@20 epoch 1: 0.256376\n",
      "\t - MRR@20    epoch 1: 0.072934\n",
      "\n"
     ]
    },
    {
     "name": "stderr",
     "output_type": "stream",
     "text": [
      "Train:  88%|████████▊ | 1137/1297 [00:40<00:05, 27.96it/s, accuracy=0.0293, train_loss=6.05]\n",
      "Evaluation:  21%|██        | 34/162 [00:05<00:20,  6.29it/s]\n"
     ]
    },
    {
     "name": "stdout",
     "output_type": "stream",
     "text": [
      "\t - Recall@20 epoch 2: 0.320944\n",
      "\t - MRR@20    epoch 2: 0.094533\n",
      "\n"
     ]
    },
    {
     "name": "stderr",
     "output_type": "stream",
     "text": [
      "Train:  88%|████████▊ | 1137/1297 [00:41<00:05, 27.56it/s, accuracy=0.0332, train_loss=5.83]\n",
      "Evaluation:  21%|██        | 34/162 [00:05<00:20,  6.26it/s]\n"
     ]
    },
    {
     "name": "stdout",
     "output_type": "stream",
     "text": [
      "\t - Recall@20 epoch 3: 0.334674\n",
      "\t - MRR@20    epoch 3: 0.101853\n",
      "\n"
     ]
    },
    {
     "name": "stderr",
     "output_type": "stream",
     "text": [
      "Train:  88%|████████▊ | 1137/1297 [00:40<00:05, 27.93it/s, accuracy=0.0352, train_loss=5.74]\n",
      "Evaluation:  21%|██        | 34/162 [00:05<00:20,  6.24it/s]\n"
     ]
    },
    {
     "name": "stdout",
     "output_type": "stream",
     "text": [
      "\t - Recall@20 epoch 4: 0.346450\n",
      "\t - MRR@20    epoch 4: 0.107340\n",
      "\n"
     ]
    },
    {
     "name": "stderr",
     "output_type": "stream",
     "text": [
      "Train:  88%|████████▊ | 1137/1297 [00:40<00:05, 27.90it/s, accuracy=0.0332, train_loss=5.63]\n",
      "Evaluation:  21%|██        | 34/162 [00:05<00:20,  6.24it/s]\n"
     ]
    },
    {
     "name": "stdout",
     "output_type": "stream",
     "text": [
      "\t - Recall@20 epoch 5: 0.348748\n",
      "\t - MRR@20    epoch 5: 0.110096\n",
      "\n"
     ]
    },
    {
     "name": "stderr",
     "output_type": "stream",
     "text": [
      "Train:  88%|████████▊ | 1137/1297 [00:40<00:05, 27.83it/s, accuracy=0.0352, train_loss=5.59]\n",
      "Evaluation:  21%|██        | 34/162 [00:05<00:20,  6.22it/s]\n"
     ]
    },
    {
     "name": "stdout",
     "output_type": "stream",
     "text": [
      "\t - Recall@20 epoch 6: 0.351045\n",
      "\t - MRR@20    epoch 6: 0.111355\n",
      "\n"
     ]
    },
    {
     "name": "stderr",
     "output_type": "stream",
     "text": [
      "Train:  88%|████████▊ | 1137/1297 [00:40<00:05, 27.74it/s, accuracy=0.043, train_loss=5.48] \n",
      "Evaluation:  21%|██        | 34/162 [00:05<00:20,  6.26it/s]\n"
     ]
    },
    {
     "name": "stdout",
     "output_type": "stream",
     "text": [
      "\t - Recall@20 epoch 7: 0.350988\n",
      "\t - MRR@20    epoch 7: 0.111744\n",
      "\n"
     ]
    },
    {
     "name": "stderr",
     "output_type": "stream",
     "text": [
      "Train:  88%|████████▊ | 1137/1297 [00:40<00:05, 27.74it/s, accuracy=0.0547, train_loss=5.43]\n",
      "Evaluation:  21%|██        | 34/162 [00:05<00:20,  6.21it/s]\n"
     ]
    },
    {
     "name": "stdout",
     "output_type": "stream",
     "text": [
      "\t - Recall@20 epoch 8: 0.351620\n",
      "\t - MRR@20    epoch 8: 0.111448\n",
      "\n"
     ]
    },
    {
     "name": "stderr",
     "output_type": "stream",
     "text": [
      "Train:  88%|████████▊ | 1137/1297 [00:40<00:05, 27.91it/s, accuracy=0.0586, train_loss=5.35]\n",
      "Evaluation:  21%|██        | 34/162 [00:05<00:21,  5.91it/s]\n"
     ]
    },
    {
     "name": "stdout",
     "output_type": "stream",
     "text": [
      "\t - Recall@20 epoch 9: 0.350988\n",
      "\t - MRR@20    epoch 9: 0.111940\n",
      "\n"
     ]
    },
    {
     "name": "stderr",
     "output_type": "stream",
     "text": [
      "Train:  88%|████████▊ | 1137/1297 [00:41<00:05, 27.38it/s, accuracy=0.0527, train_loss=5.29]\n",
      "Evaluation:  21%|██        | 34/162 [00:05<00:20,  6.18it/s]\n"
     ]
    },
    {
     "name": "stdout",
     "output_type": "stream",
     "text": [
      "\t - Recall@20 epoch 10: 0.349782\n",
      "\t - MRR@20    epoch 10: 0.111853\n",
      "\n"
     ]
    },
    {
     "name": "stderr",
     "output_type": "stream",
     "text": [
      "Evaluation:  20%|█▉        | 32/162 [00:05<00:20,  6.22it/s]"
     ]
    },
    {
     "name": "stdout",
     "output_type": "stream",
     "text": [
      "\t - Recall@20 on test set after GRU units change: 0.343262\n",
      "\t - MRR@20 on test set after GRU units change: 0.106273\n"
     ]
    },
    {
     "name": "stderr",
     "output_type": "stream",
     "text": [
      "\n"
     ]
    }
   ],
   "source": [
    "# GRU 유닛 수 증가 (100 > 200)\n",
    "args_exp2 = Args(tr=tr, val=val, test=test, batch_size=512, hsz=200, drop_rate=0.1, lr=0.001, epochs=10, k=20)\n",
    "model_exp2 = create_model(args_exp2)\n",
    "train_model(model_exp2, args_exp2)\n",
    "\n",
    "# 테스트 셋에서 모델 성능 평가\n",
    "test_recall_exp2, test_mrr_exp2 = get_metrics(args_exp2.test, model_exp2, args_exp2, args_exp2.k)\n",
    "print(f\"\\t - Recall@{args_exp2.k} on test set after GRU units change: {test_recall_exp2:3f}\")\n",
    "print(f\"\\t - MRR@{args_exp2.k} on test set after GRU units change: {test_mrr_exp2:3f}\")"
   ]
  },
  {
   "cell_type": "markdown",
   "id": "726bd9a8",
   "metadata": {},
   "source": [
    "# Test 3. 학습률 변경"
   ]
  },
  {
   "cell_type": "code",
   "execution_count": 36,
   "id": "e2ddfb87",
   "metadata": {},
   "outputs": [
    {
     "name": "stderr",
     "output_type": "stream",
     "text": [
      "Train:  88%|████████▊ | 1137/1297 [00:41<00:05, 27.28it/s, accuracy=0.0117, train_loss=6.89] \n",
      "Evaluation:  21%|██        | 34/162 [00:05<00:20,  6.17it/s]\n"
     ]
    },
    {
     "name": "stdout",
     "output_type": "stream",
     "text": [
      "\t - Recall@20 epoch 1: 0.194681\n",
      "\t - MRR@20    epoch 1: 0.052940\n",
      "\n"
     ]
    },
    {
     "name": "stderr",
     "output_type": "stream",
     "text": [
      "Train:  88%|████████▊ | 1137/1297 [00:41<00:05, 27.70it/s, accuracy=0.0117, train_loss=6.33]\n",
      "Evaluation:  21%|██        | 34/162 [00:05<00:19,  6.40it/s]\n"
     ]
    },
    {
     "name": "stdout",
     "output_type": "stream",
     "text": [
      "\t - Recall@20 epoch 2: 0.285903\n",
      "\t - MRR@20    epoch 2: 0.081617\n",
      "\n"
     ]
    },
    {
     "name": "stderr",
     "output_type": "stream",
     "text": [
      "Train:  88%|████████▊ | 1137/1297 [00:40<00:05, 27.88it/s, accuracy=0.0234, train_loss=6.07]\n",
      "Evaluation:  21%|██        | 34/162 [00:05<00:20,  6.27it/s]\n"
     ]
    },
    {
     "name": "stdout",
     "output_type": "stream",
     "text": [
      "\t - Recall@20 epoch 3: 0.314511\n",
      "\t - MRR@20    epoch 3: 0.092037\n",
      "\n"
     ]
    },
    {
     "name": "stderr",
     "output_type": "stream",
     "text": [
      "Train:  88%|████████▊ | 1137/1297 [00:41<00:05, 27.68it/s, accuracy=0.0352, train_loss=5.93]\n",
      "Evaluation:  21%|██        | 34/162 [00:05<00:20,  6.33it/s]\n"
     ]
    },
    {
     "name": "stdout",
     "output_type": "stream",
     "text": [
      "\t - Recall@20 epoch 4: 0.331687\n",
      "\t - MRR@20    epoch 4: 0.099412\n",
      "\n"
     ]
    },
    {
     "name": "stderr",
     "output_type": "stream",
     "text": [
      "Train:  88%|████████▊ | 1137/1297 [00:40<00:05, 27.88it/s, accuracy=0.0293, train_loss=5.84]\n",
      "Evaluation:  21%|██        | 34/162 [00:05<00:20,  6.27it/s]\n"
     ]
    },
    {
     "name": "stdout",
     "output_type": "stream",
     "text": [
      "\t - Recall@20 epoch 5: 0.336569\n",
      "\t - MRR@20    epoch 5: 0.102814\n",
      "\n"
     ]
    },
    {
     "name": "stderr",
     "output_type": "stream",
     "text": [
      "Train:  88%|████████▊ | 1137/1297 [00:40<00:05, 28.07it/s, accuracy=0.043, train_loss=5.78] \n",
      "Evaluation:  21%|██        | 34/162 [00:05<00:20,  6.34it/s]\n"
     ]
    },
    {
     "name": "stdout",
     "output_type": "stream",
     "text": [
      "\t - Recall@20 epoch 6: 0.341682\n",
      "\t - MRR@20    epoch 6: 0.106210\n",
      "\n"
     ]
    },
    {
     "name": "stderr",
     "output_type": "stream",
     "text": [
      "Train:  88%|████████▊ | 1137/1297 [00:40<00:05, 28.10it/s, accuracy=0.0273, train_loss=5.74]\n",
      "Evaluation:  21%|██        | 34/162 [00:05<00:20,  6.30it/s]\n"
     ]
    },
    {
     "name": "stdout",
     "output_type": "stream",
     "text": [
      "\t - Recall@20 epoch 7: 0.346967\n",
      "\t - MRR@20    epoch 7: 0.108694\n",
      "\n"
     ]
    },
    {
     "name": "stderr",
     "output_type": "stream",
     "text": [
      "Train:  88%|████████▊ | 1137/1297 [00:40<00:05, 28.38it/s, accuracy=0.0332, train_loss=5.71]\n",
      "Evaluation:  21%|██        | 34/162 [00:05<00:20,  6.30it/s]\n"
     ]
    },
    {
     "name": "stdout",
     "output_type": "stream",
     "text": [
      "\t - Recall@20 epoch 8: 0.348231\n",
      "\t - MRR@20    epoch 8: 0.110543\n",
      "\n"
     ]
    },
    {
     "name": "stderr",
     "output_type": "stream",
     "text": [
      "Train:  88%|████████▊ | 1137/1297 [00:39<00:05, 28.43it/s, accuracy=0.043, train_loss=5.68] \n",
      "Evaluation:  21%|██        | 34/162 [00:05<00:20,  6.36it/s]\n"
     ]
    },
    {
     "name": "stdout",
     "output_type": "stream",
     "text": [
      "\t - Recall@20 epoch 9: 0.350643\n",
      "\t - MRR@20    epoch 9: 0.111675\n",
      "\n"
     ]
    },
    {
     "name": "stderr",
     "output_type": "stream",
     "text": [
      "Train:  88%|████████▊ | 1137/1297 [00:39<00:05, 28.58it/s, accuracy=0.0352, train_loss=5.63]\n",
      "Evaluation:  21%|██        | 34/162 [00:05<00:20,  6.29it/s]\n"
     ]
    },
    {
     "name": "stdout",
     "output_type": "stream",
     "text": [
      "\t - Recall@20 epoch 10: 0.350988\n",
      "\t - MRR@20    epoch 10: 0.112288\n",
      "\n"
     ]
    },
    {
     "name": "stderr",
     "output_type": "stream",
     "text": [
      "Evaluation:  20%|█▉        | 32/162 [00:05<00:20,  6.31it/s]"
     ]
    },
    {
     "name": "stdout",
     "output_type": "stream",
     "text": [
      "\t - Recall@20 on test set after learning rate change: 0.339294\n",
      "\t - MRR@20 on test set after learning rate change: 0.103947\n"
     ]
    },
    {
     "name": "stderr",
     "output_type": "stream",
     "text": [
      "\n"
     ]
    }
   ],
   "source": [
    "# 학습률 변경 (0.001 > 0.01)\n",
    "args_exp3 = Args(tr=tr, val=val, test=test, batch_size=512, hsz=100, drop_rate=0.1, lr=0.01, epochs=10, k=20)\n",
    "model_exp3 = create_model(args_exp3)\n",
    "train_model(model_exp3, args_exp3)\n",
    "\n",
    "# 테스트 셋에서 모델 성능 평가\n",
    "test_recall_exp3, test_mrr_exp3 = get_metrics(args_exp3.test, model_exp3, args_exp3, args_exp3.k)\n",
    "print(f\"\\t - Recall@{args_exp3.k} on test set after learning rate change: {test_recall_exp3:3f}\")\n",
    "print(f\"\\t - MRR@{args_exp3.k} on test set after learning rate change: {test_mrr_exp3:3f}\")"
   ]
  },
  {
   "cell_type": "markdown",
   "id": "18de2726",
   "metadata": {},
   "source": [
    "# Test Result "
   ]
  },
  {
   "cell_type": "code",
   "execution_count": 37,
   "id": "f39235ae",
   "metadata": {},
   "outputs": [
    {
     "name": "stdout",
     "output_type": "stream",
     "text": [
      "\n",
      "실험 결과 비교\n",
      "기본 설정 -> Recall@20: 0.341614, MRR@20: 0.104613\n",
      "세션 길이 변경 -> Recall@20: 0.343933, MRR@20: 0.103675\n",
      "GRU 유닛 수 변경 -> Recall@20: 0.343262, MRR@20: 0.106273\n",
      "학습률 변경 -> Recall@20: 0.339294, MRR@20: 0.103947\n"
     ]
    }
   ],
   "source": [
    "print(\"\\n실험 결과 비교\")\n",
    "print(f\"기본 설정 -> Recall@20: {test_recall:3f}, MRR@20: {test_mrr:3f}\")\n",
    "print(f\"세션 길이 변경 -> Recall@20: {test_recall_exp1:3f}, MRR@20: {test_mrr_exp1:3f}\")\n",
    "print(f\"GRU 유닛 수 변경 -> Recall@20: {test_recall_exp2:3f}, MRR@20: {test_mrr_exp2:3f}\")\n",
    "print(f\"학습률 변경 -> Recall@20: {test_recall_exp3:3f}, MRR@20: {test_mrr_exp3:3f}\")"
   ]
  },
  {
   "cell_type": "markdown",
   "id": "7ef34d55",
   "metadata": {},
   "source": [
    "- 세션 길이를 늘렸을 때 Recall은 소폭 증가했지만 MRR은 감소 -> 이는 더 긴 세션에서 다양한 아이템이 포함되며 전체적으로 추천 정확성은 떨어졌지만 상위 20개 추천 중 정답 포함하는 확률 약간 개션된 것으로 볼 수 있음\n",
    "- GRU 유닛 수를 늘렸을 때 Recall과 MRR 모두 소폭 증가. \n",
    "- 학습률 변경 결과는 둘 다 감소. -> 학습률이 높아 모델이 최적의 파라미터 찾기 어려웠음."
   ]
  },
  {
   "cell_type": "code",
   "execution_count": null,
   "id": "14e3aea5",
   "metadata": {},
   "outputs": [],
   "source": []
  }
 ],
 "metadata": {
  "kernelspec": {
   "display_name": "Python 3 (ipykernel)",
   "language": "python",
   "name": "python3"
  },
  "language_info": {
   "codemirror_mode": {
    "name": "ipython",
    "version": 3
   },
   "file_extension": ".py",
   "mimetype": "text/x-python",
   "name": "python",
   "nbconvert_exporter": "python",
   "pygments_lexer": "ipython3",
   "version": "3.9.7"
  }
 },
 "nbformat": 4,
 "nbformat_minor": 5
}
